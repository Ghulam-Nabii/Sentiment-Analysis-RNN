{
  "nbformat": 4,
  "nbformat_minor": 0,
  "metadata": {
    "colab": {
      "provenance": [],
      "gpuType": "T4"
    },
    "kernelspec": {
      "name": "python3",
      "display_name": "Python 3"
    },
    "language_info": {
      "name": "python"
    },
    "accelerator": "GPU"
  },
  "cells": [
    {
      "cell_type": "code",
      "execution_count": null,
      "metadata": {
        "id": "GqtbjgAge6Wb"
      },
      "outputs": [],
      "source": [
        "import torch\n",
        "from torch import nn\n",
        "import numpy as np"
      ]
    },
    {
      "cell_type": "code",
      "source": [
        "text = ['hey how are you', 'good i am fine', 'good bye', 'have a nice day']\n",
        "\n",
        "chars = set(''.join(text))\n",
        "\n",
        "int2char = dict(enumerate(chars))\n",
        "\n",
        "char2int = {char: ind for ind, char in int2char.items()}"
      ],
      "metadata": {
        "id": "Jj2ZmHh3gEHN"
      },
      "execution_count": null,
      "outputs": []
    },
    {
      "cell_type": "code",
      "source": [
        "print(char2int)"
      ],
      "metadata": {
        "colab": {
          "base_uri": "https://localhost:8080/"
        },
        "id": "EJnJoDqMiN1i",
        "outputId": "364b9a60-55d9-45ad-d253-b0321c754470"
      },
      "execution_count": null,
      "outputs": [
        {
          "output_type": "stream",
          "name": "stdout",
          "text": [
            "{'b': 0, 'f': 1, 'y': 2, 'w': 3, 'v': 4, 'd': 5, 'r': 6, ' ': 7, 'o': 8, 'h': 9, 'n': 10, 'g': 11, 'a': 12, 'u': 13, 'e': 14, 'm': 15, 'c': 16, 'i': 17}\n"
          ]
        }
      ]
    },
    {
      "cell_type": "code",
      "source": [
        "maxlen = len(max(text, key=len))\n",
        "print(maxlen)"
      ],
      "metadata": {
        "colab": {
          "base_uri": "https://localhost:8080/"
        },
        "id": "QT0_6hy-ie-T",
        "outputId": "9103be06-dbe5-4f32-ca3f-d88fa9e0bba7"
      },
      "execution_count": null,
      "outputs": [
        {
          "output_type": "stream",
          "name": "stdout",
          "text": [
            "15\n"
          ]
        }
      ]
    },
    {
      "cell_type": "code",
      "source": [
        "for i in range(len(text)):\n",
        "  while len(text[i])<maxlen:\n",
        "    text[i] += ' '"
      ],
      "metadata": {
        "id": "Eq9NUqgPi4T-"
      },
      "execution_count": null,
      "outputs": []
    },
    {
      "cell_type": "code",
      "source": [
        "input_seq = []\n",
        "target_seq = []\n",
        "\n",
        "for i in range(len(text)):\n",
        "  input_seq.append(text[i][:-1])\n",
        "  target_seq.append(text[i][1:])\n",
        "\n",
        "  print(\"Input Seq : {}  \\n Target Seq : {}\".format(input_seq[i], target_seq[i]))"
      ],
      "metadata": {
        "colab": {
          "base_uri": "https://localhost:8080/"
        },
        "id": "xPNT1fJ0jHCq",
        "outputId": "73dd2623-0f84-4394-b92b-7c6a4159aae4"
      },
      "execution_count": null,
      "outputs": [
        {
          "output_type": "stream",
          "name": "stdout",
          "text": [
            "Input Seq : hey how are yo  \n",
            " Target Seq : ey how are you\n",
            "Input Seq : good i am fine  \n",
            " Target Seq : ood i am fine \n",
            "Input Seq : good bye        \n",
            " Target Seq : ood bye       \n",
            "Input Seq : have a nice da  \n",
            " Target Seq : ave a nice day\n"
          ]
        }
      ]
    },
    {
      "cell_type": "code",
      "source": [
        "for i in range(len(text)):\n",
        "  input_seq[i] = [char2int[character] for character in input_seq[i]]\n",
        "  target_seq[i] = [char2int[character] for character in target_seq[i]]"
      ],
      "metadata": {
        "id": "FuAQFaiRnQF_"
      },
      "execution_count": null,
      "outputs": []
    },
    {
      "cell_type": "code",
      "source": [
        "dict_size = len(char2int)\n",
        "seq_len = maxlen-1\n",
        "batch_size = len(text)\n",
        "\n",
        "def one_hot_encoder(sequence, dict_size, seq_len, batch_size):\n",
        "  feature = np.zeros((batch_size, seq_len, dict_size), dtype=np.float32)\n",
        "  for i in range(batch_size):\n",
        "    for u in range(seq_len):\n",
        "      feature[i, u, sequence[i][u]]=1\n",
        "  return feature\n"
      ],
      "metadata": {
        "id": "k4ryLh_onw8o"
      },
      "execution_count": null,
      "outputs": []
    },
    {
      "cell_type": "code",
      "source": [
        "input_seq = one_hot_encoder(input_seq, dict_size, seq_len, batch_size)"
      ],
      "metadata": {
        "id": "B4cylKrOo_Dl"
      },
      "execution_count": null,
      "outputs": []
    },
    {
      "cell_type": "code",
      "source": [
        "input_seq = torch.from_numpy(input_seq)\n",
        "target_seq = torch.Tensor(target_seq)"
      ],
      "metadata": {
        "id": "D1EP_FGEpZGY"
      },
      "execution_count": null,
      "outputs": []
    },
    {
      "cell_type": "code",
      "source": [
        "is_cuda = torch.cuda.is_available()\n",
        "\n",
        "if is_cuda:\n",
        "    device = torch.device(\"cuda\")\n",
        "    print(\"GPU is available\")\n",
        "else:\n",
        "    device = torch.device(\"cpu\")\n",
        "    print(\"GPU not available, CPU used\")"
      ],
      "metadata": {
        "colab": {
          "base_uri": "https://localhost:8080/"
        },
        "id": "-KwmiIk9puP7",
        "outputId": "a1007c28-2d58-40f6-e586-b5d143a31e6b"
      },
      "execution_count": null,
      "outputs": [
        {
          "output_type": "stream",
          "name": "stdout",
          "text": [
            "GPU is available\n"
          ]
        }
      ]
    },
    {
      "cell_type": "code",
      "source": [
        "class Model(nn.Module):\n",
        "  def __init__(self, input_size, output_size, hidden_dim, n_layers):\n",
        "        super(Model, self).__init__()\n",
        "\n",
        "        self.hidden_dim = hidden_dim\n",
        "        self.n_layers = n_layers\n",
        "\n",
        "        self.rnn = nn.RNN(input_size, hidden_dim, n_layers, batch_first=True)\n",
        "        self.fc = nn.Linear(hidden_dim, output_size)\n",
        "  def forward(self, x):\n",
        "        batch_size = x.size(0)\n",
        "\n",
        "        hidden = self.init_hidden(batch_size)\n",
        "\n",
        "        out, hidden = self.rnn(x, hidden)\n",
        "\n",
        "        out = out.contiguous().view(-1, self.hidden_dim)\n",
        "        out = self.fc(out)\n",
        "\n",
        "        return out, hidden\n",
        "\n",
        "  def init_hidden(self, batch_size):\n",
        "        hidden = torch.zeros(self.n_layers, batch_size, self.hidden_dim).to(device)\n",
        "        return hidden"
      ],
      "metadata": {
        "id": "Q5OTAuccp2fQ"
      },
      "execution_count": null,
      "outputs": []
    },
    {
      "cell_type": "code",
      "source": [
        "model= Model(input_size=dict_size, output_size=dict_size, hidden_dim=12, n_layers=1)\n",
        "model = model.to(device)\n",
        "\n",
        "n_epochs = 70\n",
        "lr = 0.01\n",
        "\n",
        "criterion = nn.CrossEntropyLoss()\n",
        "optimizer = torch.optim.Adam(model.parameters(), lr=lr)\n"
      ],
      "metadata": {
        "id": "i685k-M3rpm0"
      },
      "execution_count": null,
      "outputs": []
    },
    {
      "cell_type": "code",
      "source": [
        "n_epochs=30\n",
        "input_seq = input_seq.to(device)\n",
        "for epoch in range(1, n_epochs+1):\n",
        "  optimizer.zero_grad()\n",
        "  output, hidden = model(input_seq)\n",
        "  output = output.to(device)\n",
        "  target_seq = target_seq.to(device)\n",
        "  loss = criterion(output, target_seq.view(-1).long())\n",
        "  loss.backward()\n",
        "  optimizer.step()\n",
        "\n",
        "  if epoch%10  == 0:\n",
        "    print('Epoch: {}/{}......'.format(epoch, n_epochs), end=' ')\n",
        "    print(\"Loss : {:.4f}\".format(loss.item()))\n",
        "\n"
      ],
      "metadata": {
        "colab": {
          "base_uri": "https://localhost:8080/"
        },
        "id": "VNGWUu7IuCU1",
        "outputId": "3c0a1b48-9eaf-4406-8d8e-5e396a15d51b"
      },
      "execution_count": null,
      "outputs": [
        {
          "output_type": "stream",
          "name": "stdout",
          "text": [
            "Epoch: 10/30...... Loss : 0.2516\n",
            "Epoch: 20/30...... Loss : 0.2033\n",
            "Epoch: 30/30...... Loss : 0.1684\n"
          ]
        }
      ]
    },
    {
      "cell_type": "code",
      "source": [
        "def predict(model, character):\n",
        "    character = np.array([[char2int[c] for c in character]])\n",
        "    character = one_hot_encoder(character, dict_size, character.shape[1], 1)\n",
        "    character = torch.from_numpy(character)\n",
        "    character = character.to(device)\n",
        "\n",
        "    out, hidden = model(character)\n",
        "\n",
        "    prob = nn.functional.softmax(out[-1], dim=0).data\n",
        "    char_ind = torch.max(prob, dim=0)[1].item()\n",
        "\n",
        "    return int2char[char_ind], hidden"
      ],
      "metadata": {
        "id": "pY8uruZjv4SF"
      },
      "execution_count": null,
      "outputs": []
    },
    {
      "cell_type": "code",
      "source": [
        "def sample(model, out_len, start='hey'):\n",
        "    model.eval() # eval mode\n",
        "    start = start.lower()\n",
        "    # First off, run through the starting characters\n",
        "    chars = [ch for ch in start]\n",
        "    size = out_len - len(chars)\n",
        "    # Now pass in the previous characters and get a new one\n",
        "    for ii in range(size):\n",
        "        char, h = predict(model, chars)\n",
        "        chars.append(char)\n",
        "\n",
        "    return ''.join(chars)"
      ],
      "metadata": {
        "id": "b7rx_5shwPCu"
      },
      "execution_count": null,
      "outputs": []
    },
    {
      "cell_type": "code",
      "source": [
        "sample(model, 15, 'have')"
      ],
      "metadata": {
        "colab": {
          "base_uri": "https://localhost:8080/",
          "height": 35
        },
        "id": "7AtFBBJKwXkJ",
        "outputId": "0f3bd409-3a62-4585-8ec1-59208707e511"
      },
      "execution_count": null,
      "outputs": [
        {
          "output_type": "execute_result",
          "data": {
            "text/plain": [
              "'have a nice day'"
            ],
            "application/vnd.google.colaboratory.intrinsic+json": {
              "type": "string"
            }
          },
          "metadata": {},
          "execution_count": 26
        }
      ]
    }
  ]
}